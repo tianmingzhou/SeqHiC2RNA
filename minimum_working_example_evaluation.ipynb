{
 "cells": [
  {
   "cell_type": "code",
   "execution_count": 27,
   "id": "a3be1fc0-ef36-4e21-ab44-da2518ca5cc0",
   "metadata": {},
   "outputs": [],
   "source": [
    "import os, pickle, h5py\n",
    "import numpy as np, pandas as pd\n",
    "from pathlib import Path\n",
    "from tqdm.auto import tqdm\n",
    "from scipy.sparse import coo_matrix\n",
    "from scipy.stats import pearsonr, spearmanr\n",
    "\n",
    "import torch\n",
    "from torch import nn\n",
    "from algo.Hcformer_pretrain import Hcformer, CNN_Extractor\n",
    "from utils.data import str_to_seq_indices"
   ]
  },
  {
   "cell_type": "markdown",
   "id": "eb0956f3-cc9d-4044-81be-60e3e4825f12",
   "metadata": {},
   "source": [
    "# Load model"
   ]
  },
  {
   "cell_type": "code",
   "execution_count": 88,
   "id": "2379980b-5add-4e27-8a3f-0321a56ab617",
   "metadata": {},
   "outputs": [],
   "source": [
    "pretrain_para_path = Path('/work/magroup/hanzhan4/pretrain')\n",
    "hcformer_path = Path('/work/magroup/hanzhan4/model/hcformer_pbulk/hic1d2d/d1xcmvsr')\n",
    "hcformer_path = Path('/work/magroup/hanzhan4/model/hcformer_pbulk/hic2d/awasqs3z')\n",
    "\n",
    "device = 'cuda'"
   ]
  },
  {
   "cell_type": "code",
   "execution_count": 3,
   "id": "977bc003-930e-433d-afe5-f586a3b3529c",
   "metadata": {},
   "outputs": [],
   "source": [
    "# Define the CNN Extractor\n",
    "# We need to first use this CNN Extractor to convert one hot DNA sequence \n",
    "cnn = CNN_Extractor().to(device)\n",
    "cnn.stem.load_state_dict(torch.load(pretrain_para_path / 'stem.pt', map_location=torch.device('cpu')))\n",
    "cnn.conv_tower.load_state_dict(torch.load(pretrain_para_path / 'conv_tower.pt', map_location=torch.device('cpu')))\n",
    "cnn.eval()\n",
    "pass"
   ]
  },
  {
   "cell_type": "code",
   "execution_count": 85,
   "id": "9ffc413b-53a8-4f93-a393-65d53e40c6a4",
   "metadata": {},
   "outputs": [],
   "source": [
    "# Define the Hcformer\n",
    "# Do not need to change the hyperparameter in the following model definition\n",
    "model = Hcformer.from_hparams(\n",
    "    dim = 768,\n",
    "    seq_dim = 768,\n",
    "    depth = 11,\n",
    "    heads = 8,\n",
    "    output_heads = dict(human=1),\n",
    "    # target_length = 400,\n",
    "    target_length = 240,\n",
    "    dim_divisible_by = 128,\n",
    "    hic_1d = False,\n",
    "    hic_1d_feat_num = 5,\n",
    "    hic_1d_feat_dim = 768,\n",
    "    hic_2d = True,\n",
    ").to(device)"
   ]
  },
  {
   "cell_type": "code",
   "execution_count": 89,
   "id": "3709aa83-0833-453d-98db-e174b52f80c8",
   "metadata": {},
   "outputs": [
    {
     "data": {
      "text/plain": [
       "<All keys matched successfully>"
      ]
     },
     "execution_count": 89,
     "metadata": {},
     "output_type": "execute_result"
    }
   ],
   "source": [
    "state_dict = torch.load(hcformer_path, map_location=torch.device('cpu'))\n",
    "model.load_state_dict({k.split('.', 1)[1] if k.startswith('module.') else k: v for k, v in state_dict.items()})"
   ]
  },
  {
   "cell_type": "markdown",
   "id": "ea05eb6b-3de4-48a2-9e4b-cd6d6b94b27e",
   "metadata": {},
   "source": [
    "# Toy example"
   ]
  },
  {
   "cell_type": "code",
   "execution_count": 52,
   "id": "335f0e4a-525b-4f96-84ec-634e9b4319a6",
   "metadata": {},
   "outputs": [
    {
     "name": "stdout",
     "output_type": "stream",
     "text": [
      "torch.Size([1, 409600]) torch.Size([2, 400, 5]) torch.Size([2, 400, 400])\n"
     ]
    }
   ],
   "source": [
    "# prepare the input sample\n",
    "# seq = torch.randint(0, 5, (1, 409600))\n",
    "# if your input sample is str type, you can use this function to convert your string\n",
    "# we convert A->0, C->1, G->2, T->3, N->4\n",
    "seq_str = ''.join(map(chr, np.random.choice(list(map(ord, 'ATGCN')), size=409600, replace=True)))\n",
    "seq = str_to_seq_indices(seq_str)[None]\n",
    "\n",
    "hic_1d = torch.rand(2, 400, 5)\n",
    "hic_2d = torch.rand(2, 400, 400)\n",
    "\n",
    "print(seq.shape, hic_1d.shape, hic_2d.shape)"
   ]
  },
  {
   "cell_type": "code",
   "execution_count": 53,
   "id": "e3cfaccd-9c35-4588-b57d-9c5fb2d9f8b8",
   "metadata": {},
   "outputs": [
    {
     "name": "stdout",
     "output_type": "stream",
     "text": [
      "torch.Size([1, 3200, 1536])\n",
      "torch.Size([2, 240, 1])\n"
     ]
    }
   ],
   "source": [
    "with torch.no_grad():\n",
    "    seq, hic_1d, hic_2d = seq.to(device), hic_1d.to(device), hic_2d.to(device)\n",
    "    seq_dense = cnn(seq)\n",
    "    print(seq_dense.shape)\n",
    "    pred = model(seq_dense, head='human', hic_1d=hic_1d, hic_2d=hic_2d)\n",
    "    print(pred.shape)"
   ]
  },
  {
   "cell_type": "markdown",
   "id": "e9e03573-58f1-4f6e-9f1a-aedc566820e0",
   "metadata": {},
   "source": [
    "# Evaluate at our dataset"
   ]
  },
  {
   "cell_type": "code",
   "execution_count": 79,
   "id": "434da835-7d1b-45af-a363-a87c0f1b6f44",
   "metadata": {},
   "outputs": [
    {
     "data": {
      "application/vnd.jupyter.widget-view+json": {
       "model_id": "46b864744a3c47769e033dfb490f79b8",
       "version_major": 2,
       "version_minor": 0
      },
      "text/plain": [
       "  0%|          | 0/5 [00:00<?, ?it/s]"
      ]
     },
     "metadata": {},
     "output_type": "display_data"
    },
    {
     "name": "stdout",
     "output_type": "stream",
     "text": [
      "Hi-C 1D (28, 3740, 400, 5)\n",
      "expression (28, 3740, 400)\n",
      "sequence (3740,) 409600\n",
      "Gene meta data (3740, 4)\n",
      "Cell meta data (3105, 3)\n",
      "['Astro' 'L2 IT RvPP' 'L2/3 IT CTX a' 'L2/3 IT CTX b' 'L2/3 IT CTX c'\n",
      " 'L2/3 IT RSP' 'L4 IT CTX' 'L4/5 IT CTX' 'L5 IT CTX' 'L5 IT RSP'\n",
      " 'L5 PT CTX' 'L5/6 NP CTX' 'L6 CT CTX a' 'L6 CT CTX b' 'L6 IT CTX'\n",
      " 'L6b CTX' 'Lamp5' 'Meis2' 'Micro' 'ODC' 'OPC' 'Pvalb a' 'Pvalb b' 'Sncg'\n",
      " 'Sst a' 'Sst b' 'VLMC' 'Vip']\n"
     ]
    }
   ],
   "source": [
    "path2dir = Path('/work/magroup/tianming/Researches/seqhic2expr/data/gage-seq-mBC')\n",
    "\n",
    "feat_1d_list = ['ab', 'is-hw25', 'is-hw50', 'is-hw100', 'genebody']\n",
    "hic_1d_all = []\n",
    "for feat_name in tqdm(feat_1d_list):\n",
    "    with open(path2dir / f'1d-score-celltypebulk-10kb-{feat_name}_1024_200_uint8.pkl', 'rb') as f:\n",
    "        hic_1d_all.append(pickle.load(f).reshape(28, 3740, 400).astype(float) / 255)\n",
    "hic_1d_all = np.stack(hic_1d_all, axis=-1)\n",
    "print('Hi-C 1D', hic_1d_all.shape)\n",
    "\n",
    "with open(path2dir / 'expression_cov_1024_200_celltypebulk.pkl', 'rb') as f:\n",
    "    expression_all = pickle.load(f)\n",
    "expression_all = np.concatenate([_.toarray() for _ in expression_all.ravel()], axis=0).reshape(28, 3740, 400)\n",
    "expression_all = expression_all.reshape(28, 3740 * 400)\n",
    "row_min = np.min(expression_all, axis=1, keepdims=True)\n",
    "row_max = np.max(expression_all, axis=1, keepdims=True)\n",
    "expression_all = (expression_all - row_min) / (row_max - row_min)\n",
    "expression_all = np.log1p(expression_all * 1e4)\n",
    "expression_all = expression_all.reshape(28, 3740, 400)\n",
    "print('expression', expression_all.shape)\n",
    "\n",
    "with open(path2dir / 'sequence_1024_200.tsv', 'r') as f:\n",
    "    sequence_all = np.array(f.read().upper().strip().split())\n",
    "print('sequence', sequence_all.shape, len(sequence_all[0]))\n",
    "\n",
    "df_meta_gene = pd.read_csv(path2dir / 'genes.tsv', sep='\\t')\n",
    "print('Gene meta data', df_meta_gene.shape)\n",
    "\n",
    "df_meta_cell = pd.read_csv(path2dir / 'cells.tsv', sep='\\t')\n",
    "print('Cell meta data', df_meta_cell.shape)\n",
    "\n",
    "with open(path2dir / 'cell_types.tsv', 'r') as f:\n",
    "    cell_type_list = np.array(f.read().strip().split('\\n'))\n",
    "print(cell_type_list)"
   ]
  },
  {
   "cell_type": "code",
   "execution_count": 76,
   "id": "d19ac102-e791-4db3-97b2-a1702b867ed6",
   "metadata": {},
   "outputs": [
    {
     "data": {
      "text/plain": [
       "torch.Size([6, 748, 240])"
      ]
     },
     "execution_count": 76,
     "metadata": {},
     "output_type": "execute_result"
    }
   ],
   "source": [
    "with open('/work/magroup/hanzhan4/model_output/hcformer_pbulk/test_expression.pkl', 'rb') as f:\n",
    "    tmp = pickle.load(f)\n",
    "tmp.reshape(6, -1, 240).shape"
   ]
  },
  {
   "cell_type": "code",
   "execution_count": 78,
   "id": "41253d1f-171b-419d-b461-b16c8b87f60e",
   "metadata": {},
   "outputs": [
    {
     "data": {
      "text/plain": [
       "torch.Size([4488, 240, 1])"
      ]
     },
     "execution_count": 78,
     "metadata": {},
     "output_type": "execute_result"
    }
   ],
   "source": [
    "tmp.shape"
   ]
  },
  {
   "cell_type": "code",
   "execution_count": 72,
   "id": "86f064d0-f473-4eb8-b08c-aed4fd6d6be0",
   "metadata": {},
   "outputs": [
    {
     "name": "stdout",
     "output_type": "stream",
     "text": [
      "baseline  hic1d  hic1d2d  hic2d  test_expression.pkl  valid_expression.pkl\n"
     ]
    }
   ],
   "source": [
    "!ls /work/magroup/hanzhan4/model_output/hcformer_pbulk"
   ]
  },
  {
   "cell_type": "code",
   "execution_count": 55,
   "id": "0c725a04-cec9-4751-8944-827b561b7938",
   "metadata": {},
   "outputs": [
    {
     "name": "stdout",
     "output_type": "stream",
     "text": [
      "(28, 400, 400)\n"
     ]
    }
   ],
   "source": [
    "def load_contact_map_of_one_gene(gene_id, cell_type_list=cell_type_list):\n",
    "    # path2file = path2dir / 'contact_1024_200_celltypebulk.h5'\n",
    "    path2file = Path('/scratch/tmp-tianming') / 'contact_1024_200_celltypebulk.h5'\n",
    "    hic_2d = []\n",
    "    with h5py.File(path2file, 'r') as f:\n",
    "        for cell_type in cell_type_list:\n",
    "            g = f[cell_type.replace('/', '')][gene_id]\n",
    "            m = coo_matrix((g['data'][()], (g['row'][()], g['col'][()])), shape=(400, 400)).toarray()\n",
    "            # coo_mat = coo_matrix((data, (row, col)), shape=(400, 400))\n",
    "            # coo_mat.sum_duplicates()\n",
    "            # coo_mat.data = np.log1p(coo_mat.data)\n",
    "            m = np.log1p((m + m.T) / (np.eye(len(m)) + 1))\n",
    "            hic_2d.append(m)\n",
    "    hic_2d = np.stack(hic_2d, axis=0)\n",
    "    return hic_2d\n",
    "hic_2d_example = load_contact_map_of_one_gene(df_meta_gene.gene_id.iloc[0])\n",
    "print(hic_2d_example.shape)"
   ]
  },
  {
   "cell_type": "code",
   "execution_count": 56,
   "id": "e80d7f10-97cf-45ff-971c-ba3818d4b868",
   "metadata": {},
   "outputs": [],
   "source": [
    "seen_cell_type_idx = np.array([4, 10, 3, 13, 23, 7, 21, 17, 25, 2, 27, 6, 16, 22, 12, 15, 14, 1, 9, 18, 26, 0])\n",
    "unseen_cell_type_idx = np.array([5, 19, 24, 11, 8, 20])\n",
    "seen_gene_idx = np.arange(2992)\n",
    "unseen_gene_idx = np.arange(2992, 3740)"
   ]
  },
  {
   "cell_type": "code",
   "execution_count": null,
   "id": "754df00c-d2ea-46ee-bcf4-b483f9e5a193",
   "metadata": {},
   "outputs": [],
   "source": [
    "prediction_all = np.empty([28, 3740, 240])\n",
    "cell_type_indices = unseen_cell_type_idx\n",
    "gene_indices = unseen_gene_idx\n",
    "for gene_idx, gene_id in tqdm(\n",
    "    zip(gene_indices, df_meta_gene.iloc[gene_indices].gene_id), total=len(gene_indices)):\n",
    "    seq = str_to_seq_indices(sequence_all[gene_idx])[None].to(device)\n",
    "    hic_1d = torch.tensor(hic_1d_all[cell_type_indices, gene_idx], device=device, dtype=torch.float32)\n",
    "    hic_2d = load_contact_map_of_one_gene(gene_id, cell_type_list[cell_type_idx])\n",
    "    hic_2d = torch.tensor(hic_2d, device=device, dtype=torch.float32)\n",
    "    with torch.no_grad():\n",
    "        seq_dense = cnn(seq)\n",
    "        seq_dense = seq_dense.repeat(len(hic_1d), 1, 1)\n",
    "        pred = model(seq_dense, head='human', hic_1d=hic_1d, hic_2d=hic_2d)\n",
    "        prediction_all[cell_type_indices, gene_idx] = pred.cpu().numpy().squeeze(-1)\n",
    "    # del seq, hic_1d, hic_2d, seq_dense, pred"
   ]
  },
  {
   "cell_type": "code",
   "execution_count": 21,
   "id": "93f1cc2b-70b1-4199-bca5-256be1f4efa9",
   "metadata": {},
   "outputs": [
    {
     "ename": "ZeroDivisionError",
     "evalue": "division by zero",
     "output_type": "error",
     "traceback": [
      "\u001b[0;31m---------------------------------------------------------------------------\u001b[0m",
      "\u001b[0;31mZeroDivisionError\u001b[0m                         Traceback (most recent call last)",
      "Cell \u001b[0;32mIn[21], line 1\u001b[0m\n\u001b[0;32m----> 1\u001b[0m \u001b[38;5;241;43m1\u001b[39;49m\u001b[38;5;241;43m/\u001b[39;49m\u001b[38;5;241;43m0\u001b[39;49m\n",
      "\u001b[0;31mZeroDivisionError\u001b[0m: division by zero"
     ]
    }
   ],
   "source": [
    "1/0"
   ]
  },
  {
   "cell_type": "code",
   "execution_count": 82,
   "id": "3e7167ce-6c8d-4897-93b7-f283c0cf6aba",
   "metadata": {},
   "outputs": [
    {
     "data": {
      "text/plain": [
       "PearsonRResult(statistic=0.49327673616329243, pvalue=0.0)"
      ]
     },
     "execution_count": 82,
     "metadata": {},
     "output_type": "execute_result"
    }
   ],
   "source": [
    "def get_matrix(x):\n",
    "    x = x[cell_type_indices][:, gene_indices]\n",
    "    # x = x[..., 80: -80]\n",
    "    return x\n",
    "pred = get_matrix(prediction_all)\n",
    "truth = get_matrix(expression_all[..., 80:-80])\n",
    "c = pearsonr(pred.ravel(), truth.ravel())\n",
    "c"
   ]
  },
  {
   "cell_type": "code",
   "execution_count": 84,
   "id": "d79c5bf8-a037-4bac-9d09-4a8ba182a944",
   "metadata": {},
   "outputs": [
    {
     "data": {
      "text/plain": [
       "PearsonRResult(statistic=0.4932767361815076, pvalue=0.0)"
      ]
     },
     "execution_count": 84,
     "metadata": {},
     "output_type": "execute_result"
    }
   ],
   "source": [
    "pearsonr(get_matrix(prediction_all).ravel(), tmp.reshape(6, -1, 240).ravel())"
   ]
  },
  {
   "cell_type": "code",
   "execution_count": null,
   "id": "d651e7a4-0ab2-4461-9da1-27f6cd8f7f1e",
   "metadata": {},
   "outputs": [],
   "source": []
  }
 ],
 "metadata": {
  "kernelspec": {
   "display_name": "Python 3 (ipykernel)",
   "language": "python",
   "name": "python3"
  },
  "language_info": {
   "codemirror_mode": {
    "name": "ipython",
    "version": 3
   },
   "file_extension": ".py",
   "mimetype": "text/x-python",
   "name": "python",
   "nbconvert_exporter": "python",
   "pygments_lexer": "ipython3",
   "version": "3.9.18"
  }
 },
 "nbformat": 4,
 "nbformat_minor": 5
}
