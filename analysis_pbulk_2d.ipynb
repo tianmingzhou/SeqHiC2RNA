{
 "cells": [
  {
   "cell_type": "code",
   "execution_count": 1,
   "metadata": {},
   "outputs": [],
   "source": [
    "import torch\n",
    "import torch.nn.functional as F\n",
    "import pickle\n",
    "from utils.dataset import load_data_pbulk\n",
    "from algo.Hcformer_pretrain import Hcformer # just change here for different algo version\n",
    "from algo.module import pearson_corr_coef\n",
    "from torch import nn\n",
    "from tqdm import tqdm\n",
    "from typing import List\n",
    "from scipy.sparse import coo_matrix"
   ]
  },
  {
   "cell_type": "code",
   "execution_count": 2,
   "metadata": {},
   "outputs": [],
   "source": [
    "data_path = './data'\n",
    "seed = 0\n",
    "num_workers = 8\n",
    "target_length = 240\n",
    "dim = 768\n",
    "depth = 11\n",
    "heads = 8\n",
    "output_heads = 1\n",
    "hic_1d_feat_num = 5\n",
    "\n",
    "add_hic_1d = True\n",
    "add_hic_2d = True\n",
    "batch_size = 64\n",
    "gpu = [1, 3, 5, 7]"
   ]
  },
  {
   "cell_type": "code",
   "execution_count": 3,
   "metadata": {},
   "outputs": [
    {
     "name": "stdout",
     "output_type": "stream",
     "text": [
      "Device is [1, 3, 5, 7]\n"
     ]
    }
   ],
   "source": [
    "if len(gpu) > 0:\n",
    "    device = torch.device(f\"cuda:{gpu[0]}\")\n",
    "    print(f\"Device is {gpu}\")\n",
    "else:\n",
    "    device = torch.device(f\"cuda:{gpu}\" if (torch.cuda.is_available() and gpu >= 0) else \"cpu\")\n",
    "    print(f\"Device is {device}.\")"
   ]
  },
  {
   "cell_type": "code",
   "execution_count": 4,
   "metadata": {},
   "outputs": [],
   "source": [
    "def sparse_to_torch(coo_matrix: List[coo_matrix]):\n",
    "    dense_matrix = []\n",
    "    for m in coo_matrix:\n",
    "        m = m.toarray()\n",
    "        m = m + m.T\n",
    "        m /= torch.ones(400) + torch.eye(400)\n",
    "        dense_matrix.append(m)\n",
    "    return torch.stack(dense_matrix, dim=0)\n",
    "\n",
    "def evaluation(model, data_loader, device):\n",
    "    model.eval()\n",
    "    with torch.no_grad():\n",
    "        with tqdm(total=len(data_loader), dynamic_ncols=True) as t:\n",
    "            t.set_description('Evaluation: ')\n",
    "            total_pred = []\n",
    "            total_exp = []\n",
    "            for item in data_loader:\n",
    "                if add_hic_1d and add_hic_2d:\n",
    "                    seq, exp, hic_1d, hic_2d = item[0].to(device), item[1], item[2].to(device), item[3]\n",
    "                    hic_2d = sparse_to_torch(hic_2d).to(device)\n",
    "                elif add_hic_1d:\n",
    "                    seq, exp, hic_1d = item[0].to(device), item[1], item[2].to(device)\n",
    "                    hic_2d = None\n",
    "                elif add_hic_2d:\n",
    "                    seq, exp, hic_2d = item[0].to(device), item[1], item[2]\n",
    "                    hic_1d = None\n",
    "                    hic_2d = sparse_to_torch(hic_2d).to(device)\n",
    "                else:\n",
    "                    seq, exp = item[0].to(device), item[1].to(device)\n",
    "                    hic_1d, hic_2d = None, None\n",
    "                pred = model(seq, head='human', hic_1d=hic_1d, hic_2d=hic_2d)\n",
    "\n",
    "                total_pred.append(pred.detach().cpu())\n",
    "                total_exp.append(exp.unsqueeze(-1))\n",
    "                t.update()\n",
    "            total_pred = torch.concat(total_pred, dim=0)\n",
    "            total_exp  = torch.concat(total_exp,  dim=0)\n",
    "\n",
    "    return pearson_corr_coef(total_pred, total_exp)[0]"
   ]
  },
  {
   "cell_type": "code",
   "execution_count": 5,
   "metadata": {},
   "outputs": [
    {
     "name": "stdout",
     "output_type": "stream",
     "text": [
      "Read the contact map pickle\n"
     ]
    }
   ],
   "source": [
    "train_loader, valid_loader, test_loader = load_data_pbulk(\n",
    "    path = data_path, \n",
    "    seed = seed, \n",
    "    batch_size = batch_size, \n",
    "    num_workers = num_workers, \n",
    "    target_len = target_length,\n",
    "    hic_1d = add_hic_1d,\n",
    "    hic_2d = add_hic_2d)\n",
    "\n",
    "model = Hcformer.from_hparams(\n",
    "    dim = dim,\n",
    "    seq_dim = dim,\n",
    "    depth = depth,\n",
    "    heads = heads,\n",
    "    output_heads = dict(human=output_heads),\n",
    "    target_length = target_length,\n",
    "    dim_divisible_by = dim / 12,\n",
    "    hic_1d = add_hic_1d,\n",
    "    hic_1d_feat_num = hic_1d_feat_num,       \n",
    "    hic_1d_feat_dim = dim,\n",
    "    hic_2d = add_hic_2d,\n",
    ").to(device)"
   ]
  },
  {
   "cell_type": "code",
   "execution_count": 6,
   "metadata": {},
   "outputs": [],
   "source": [
    "\n",
    "model.load_state_dict(torch.load('/home/ubuntu/SeqHiC2RNA/output/model/hcformer_pbulk/hic1d2d/d1xcmvsr'))\n",
    "\n",
    "if len(gpu) > 1:\n",
    "    model = nn.DataParallel(model, device_ids=gpu)\n",
    "\n",
    "# model.load_state_dict(torch.load('/home/ubuntu/SeqHiC2RNA/output/model/hcformer_pbulk/hic2d/j17tb22p'))\n",
    "# if len(gpu) > 1:\n",
    "#     model = nn.DataParallel(model, device_ids=gpu)"
   ]
  },
  {
   "cell_type": "code",
   "execution_count": 7,
   "metadata": {},
   "outputs": [
    {
     "name": "stderr",
     "output_type": "stream",
     "text": [
      "Evaluation: : 100%|██████████| 1029/1029 [38:34<00:00,  2.25s/it]\n"
     ]
    }
   ],
   "source": [
    "model.eval()\n",
    "with torch.no_grad():\n",
    "    with tqdm(total=len(train_loader), dynamic_ncols=True) as t:\n",
    "        t.set_description('Evaluation: ')\n",
    "        total_train_pred = []\n",
    "        total_train_exp = []\n",
    "        for item in train_loader:\n",
    "            if add_hic_1d and add_hic_2d:\n",
    "                seq, exp, hic_1d, hic_2d = item[0].to(device), item[1], item[2].to(device), item[3]\n",
    "                hic_2d = sparse_to_torch(hic_2d).to(device)\n",
    "            elif add_hic_1d:\n",
    "                seq, exp, hic_1d = item[0].to(device), item[1], item[2].to(device)\n",
    "                hic_2d = None\n",
    "            elif add_hic_2d:\n",
    "                seq, exp, hic_2d = item[0].to(device), item[1], item[2]\n",
    "                hic_1d = None\n",
    "                hic_2d = sparse_to_torch(hic_2d).to(device)\n",
    "            else:\n",
    "                seq, exp = item[0].to(device), item[1]\n",
    "                hic_1d, hic_2d = None, None\n",
    "            pred = model(seq, head='human', hic_1d=hic_1d, hic_2d=hic_2d)\n",
    "\n",
    "            total_train_pred.append(pred.detach().cpu())\n",
    "            total_train_exp.append(exp.unsqueeze(-1))\n",
    "            t.update()\n",
    "        total_train_pred = torch.concat(total_train_pred, dim=0)\n",
    "        total_train_exp  = torch.concat(total_train_exp,  dim=0)\n",
    "mean_train_pearson_corr_coef = pearson_corr_coef(total_train_pred, total_train_exp)[0]"
   ]
  },
  {
   "cell_type": "code",
   "execution_count": null,
   "metadata": {},
   "outputs": [],
   "source": [
    "# need to modify here\n",
    "with open('output/model_output/hcformer_pbulk/hic1d2d/hic1d2d_train_d1xcmvsr.pkl', 'wb') as f:\n",
    "    pickle.dump(total_train_pred, f)\n",
    "\n",
    "with open('output/model_output/hcformer_pbulk/train_expression_1.pkl', 'wb') as f:\n",
    "    pickle.dump(total_train_exp, f)"
   ]
  },
  {
   "cell_type": "code",
   "execution_count": 15,
   "metadata": {},
   "outputs": [
    {
     "name": "stderr",
     "output_type": "stream",
     "text": [
      "Evaluation: : 100%|██████████| 71/71 [02:37<00:00,  2.22s/it]\n"
     ]
    }
   ],
   "source": [
    "model.eval()\n",
    "with torch.no_grad():\n",
    "    with tqdm(total=len(test_loader), dynamic_ncols=True) as t:\n",
    "        t.set_description('Evaluation: ')\n",
    "        total_test_pred = []\n",
    "        total_test_exp = []\n",
    "        for item in test_loader:\n",
    "            if add_hic_1d and add_hic_2d:\n",
    "                seq, exp, hic_1d, hic_2d = item[0].to(device), item[1], item[2].to(device), item[3]\n",
    "                hic_2d = sparse_to_torch(hic_2d).to(device)\n",
    "            elif add_hic_1d:\n",
    "                seq, exp, hic_1d = item[0].to(device), item[1], item[2].to(device)\n",
    "                hic_2d = None\n",
    "            elif add_hic_2d:\n",
    "                seq, exp, hic_2d = item[0].to(device), item[1], item[2]\n",
    "                hic_1d = None\n",
    "                hic_2d = sparse_to_torch(hic_2d).to(device)\n",
    "            else:\n",
    "                seq, exp = item[0].to(device), item[1]\n",
    "                hic_1d, hic_2d = None, None\n",
    "            pred = model(seq, head='human', hic_1d=hic_1d, hic_2d=hic_2d)\n",
    "\n",
    "            total_test_pred.append(pred.detach().cpu())\n",
    "            total_test_exp.append(exp.unsqueeze(-1))\n",
    "            t.update()\n",
    "        total_test_pred = torch.concat(total_test_pred, dim=0)\n",
    "        total_test_exp  = torch.concat(total_test_exp,  dim=0)\n",
    "mean_test_pearson_corr_coef = pearson_corr_coef(total_test_pred, total_test_exp)[0]"
   ]
  },
  {
   "cell_type": "code",
   "execution_count": 16,
   "metadata": {},
   "outputs": [
    {
     "name": "stderr",
     "output_type": "stream",
     "text": [
      "Evaluation: : 100%|██████████| 538/538 [18:55<00:00,  2.11s/it]\n"
     ]
    }
   ],
   "source": [
    "model.eval()\n",
    "with torch.no_grad():\n",
    "    with tqdm(total=len(valid_loader), dynamic_ncols=True) as t:\n",
    "        t.set_description('Evaluation: ')\n",
    "        total_valid_pred = []\n",
    "        total_valid_exp = []\n",
    "        for item in valid_loader:\n",
    "            if add_hic_1d and add_hic_2d:\n",
    "                seq, exp, hic_1d, hic_2d = item[0].to(device), item[1], item[2].to(device), item[3]\n",
    "                hic_2d = sparse_to_torch(hic_2d).to(device)\n",
    "            elif add_hic_1d:\n",
    "                seq, exp, hic_1d = item[0].to(device), item[1], item[2].to(device)\n",
    "                hic_2d = None\n",
    "            elif add_hic_2d:\n",
    "                seq, exp, hic_2d = item[0].to(device), item[1], item[2]\n",
    "                hic_1d = None\n",
    "                hic_2d = sparse_to_torch(hic_2d).to(device)\n",
    "            else:\n",
    "                seq, exp = item[0].to(device), item[1]\n",
    "                hic_1d, hic_2d = None, None\n",
    "            pred = model(seq, head='human', hic_1d=hic_1d, hic_2d=hic_2d)\n",
    "\n",
    "            total_valid_pred.append(pred.detach().cpu())\n",
    "            total_valid_exp.append(exp.unsqueeze(-1))\n",
    "            t.update()\n",
    "        total_valid_pred = torch.concat(total_valid_pred, dim=0)\n",
    "        total_valid_exp  = torch.concat(total_valid_exp,  dim=0)\n",
    "mean_valid_pearson_corr_coef = pearson_corr_coef(total_valid_pred, total_valid_exp)[0]"
   ]
  },
  {
   "cell_type": "code",
   "execution_count": 16,
   "metadata": {},
   "outputs": [],
   "source": [
    "# need to modify here\n",
    "with open('output/model_output/hcformer_pbulk/hic2d/hic2d_test_j5015m8n.pkl', 'wb') as f:\n",
    "    pickle.dump(total_test_pred, f)\n",
    "\n",
    "with open('output/model_output/hcformer_pbulk/hic2d/hic2d_valid_j5015m8n.pkl', 'wb') as f:\n",
    "    pickle.dump(total_valid_pred, f)\n",
    "    "
   ]
  },
  {
   "cell_type": "code",
   "execution_count": null,
   "metadata": {},
   "outputs": [],
   "source": [
    "pred_center = total_pred - total_pred.mean(dim = 1, keepdim = True)\n",
    "exp_center = total_exp - total_exp.mean(dim = 1, keepdim = True)\n",
    "test_pearson_list = F.cosine_similarity(pred_center, exp_center, dim = 1)"
   ]
  },
  {
   "cell_type": "code",
   "execution_count": null,
   "metadata": {},
   "outputs": [],
   "source": [
    "reshaped_test = test_pearson_list.reshape(-1, 748)\n",
    "cell_type_averages = torch.mean(reshaped_test, dim=1)\n",
    "cell_type_std = torch.std(reshaped_test, dim=1)\n",
    "sequence_averages = torch.mean(reshaped_test, dim=0)\n",
    "sequence_std = torch.std(reshaped_test, dim=0)\n",
    "print(cell_type_averages)\n",
    "print(cell_type_std)\n",
    "print(sequence_averages)\n",
    "print(sequence_std)\n",
    "# with open('try/cell_type_averages_hic_1d.pkl', 'wb') as f:\n",
    "#     pickle.dump(cell_type_averages, f)\n",
    "# with open('try/cell_type_std_hic_1d.pkl', 'wb') as f:\n",
    "#     pickle.dump(cell_type_std, f)\n",
    "# with open('try/sequence_averages_hic_1d.pkl', 'wb') as f:\n",
    "#     pickle.dump(sequence_averages, f)\n",
    "# with open('try/sequence_std_hic_1d.pkl', 'wb') as f:\n",
    "#     pickle.dump(sequence_averages, f)\n",
    "\n",
    "with open('try/cell_type_averages.pkl', 'wb') as f:\n",
    "    pickle.dump(cell_type_averages, f)\n",
    "with open('try/cell_type_std.pkl', 'wb') as f:\n",
    "    pickle.dump(cell_type_std, f)\n",
    "with open('try/sequence_averages.pkl', 'wb') as f:\n",
    "    pickle.dump(sequence_averages, f)\n",
    "with open('try/sequence_std.pkl', 'wb') as f:\n",
    "    pickle.dump(sequence_averages, f)\n"
   ]
  },
  {
   "cell_type": "code",
   "execution_count": null,
   "metadata": {},
   "outputs": [],
   "source": [
    "cell_type_averages = []\n",
    "cell_type_std = []\n",
    "for subarray in reshaped_test:\n",
    "    non_zero_elements = subarray[subarray != 0]\n",
    "    cell_type_averages.append(torch.mean(non_zero_elements))\n",
    "    cell_type_std.append(torch.std(non_zero_elements))\n",
    "print(cell_type_averages)\n",
    "print(cell_type_std)\n",
    "\n",
    "sequence_averages = []\n",
    "sequence_std = []\n",
    "for i in range(reshaped_test.size(1)):\n",
    "    subarray = reshaped_test[:, i]\n",
    "    non_zero_elements = subarray[subarray != 0]\n",
    "    sequence_averages.append(torch.mean(non_zero_elements))\n",
    "    sequence_std.append(torch.std(non_zero_elements))\n",
    "print(sequence_averages)\n",
    "print(sequence_std)\n",
    "# with open('try/cell_type_averages_hic_1d_no0.pkl', 'wb') as f:\n",
    "#     pickle.dump(cell_type_averages, f)\n",
    "# with open('try/cell_type_std_hic_1d_no0.pkl', 'wb') as f:\n",
    "#     pickle.dump(cell_type_std, f)\n",
    "# with open('try/sequence_averages_hic_1d_no0.pkl', 'wb') as f:\n",
    "#     pickle.dump(sequence_averages, f)\n",
    "# with open('try/sequence_std_hic_1d_no0.pkl', 'wb') as f:\n",
    "#     pickle.dump(sequence_averages, f)\n",
    "\n",
    "with open('try/cell_type_averages_no0.pkl', 'wb') as f:\n",
    "    pickle.dump(cell_type_averages, f)\n",
    "with open('try/cell_type_std_no0.pkl', 'wb') as f:\n",
    "    pickle.dump(cell_type_std, f)\n",
    "with open('try/sequence_averages_no0.pkl', 'wb') as f:\n",
    "    pickle.dump(sequence_averages, f)\n",
    "with open('try/sequence_std_no0.pkl', 'wb') as f:\n",
    "    pickle.dump(sequence_averages, f)\n",
    "    "
   ]
  }
 ],
 "metadata": {
  "kernelspec": {
   "display_name": "seq",
   "language": "python",
   "name": "python3"
  },
  "language_info": {
   "codemirror_mode": {
    "name": "ipython",
    "version": 3
   },
   "file_extension": ".py",
   "mimetype": "text/x-python",
   "name": "python",
   "nbconvert_exporter": "python",
   "pygments_lexer": "ipython3",
   "version": "3.10.12"
  }
 },
 "nbformat": 4,
 "nbformat_minor": 2
}
